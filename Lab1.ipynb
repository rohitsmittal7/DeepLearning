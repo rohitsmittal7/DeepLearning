{
  "nbformat": 4,
  "nbformat_minor": 0,
  "metadata": {
    "colab": {
      "name": "Expt1.ipynb",
      "private_outputs": true,
      "provenance": []
    },
    "kernelspec": {
      "name": "python3",
      "display_name": "Python 3"
    }
  },
  "cells": [
    {
      "cell_type": "code",
      "metadata": {
        "id": "G_qwxQBO08-x"
      },
      "source": [
        "from keras import Sequential \n",
        "# Ignore  the warnings\n",
        "import warnings\n",
        "warnings.filterwarnings('always')\n",
        "warnings.filterwarnings('ignore')\n",
        "\n",
        "# data visualisation and manipulation\n",
        "import numpy as np\n",
        "import pandas as pd\n",
        "import matplotlib.pyplot as plt\n",
        "from matplotlib import style\n",
        "import seaborn as sns\n",
        " \n",
        "#configure\n",
        "# sets matplotlib to inline and displays graphs below the corressponding cell.\n",
        "%matplotlib inline  \n",
        "style.use('fivethirtyeight')\n",
        "sns.set(style='whitegrid',color_codes=True)\n",
        "\n",
        "#model selection\n",
        "from sklearn.model_selection import train_test_split\n",
        "from sklearn.model_selection import KFold\n",
        "from sklearn.metrics import accuracy_score,precision_score,recall_score,confusion_matrix,roc_curve,roc_auc_score\n",
        "from sklearn.model_selection import GridSearchCV\n",
        "from sklearn.preprocessing import LabelEncoder\n",
        "\n",
        "#preprocess.\n",
        "from keras.preprocessing.image import ImageDataGenerator\n",
        "\n",
        "#dl libraraies\n",
        "from keras import backend as K\n",
        "from keras.models import Sequential\n",
        "from keras.layers import Dense\n",
        "from keras.optimizers import Adam,SGD,Adagrad,Adadelta,RMSprop\n",
        "from keras.utils import to_categorical\n",
        "\n",
        "# specifically for cnn\n",
        "from keras.layers import Dropout, Flatten,Activation\n",
        "from keras.layers import Conv2D, MaxPooling2D, BatchNormalization\n",
        " \n",
        "import tensorflow as tf\n",
        "import random as rn\n",
        "\n",
        "# specifically for manipulating zipped images and getting numpy arrays of pixel values of images.\n",
        "import cv2                  \n",
        "import numpy as np  \n",
        "from tqdm import tqdm\n",
        "import os                   \n",
        "from random import shuffle  \n",
        "from zipfile import ZipFile\n",
        "from PIL import Image"
      ],
      "execution_count": null,
      "outputs": []
    },
    {
      "cell_type": "code",
      "metadata": {
        "id": "1scx88VkhdYu"
      },
      "source": [
        "!wget http://upscfever.com/datasets/flowers-new.zip -P drive/app\n",
        "import os\n",
        "os.chdir('drive/app')  #change dir\n",
        "!unzip -q flowers-new.zip  #unzip data in test/"
      ],
      "execution_count": null,
      "outputs": []
    },
    {
      "cell_type": "code",
      "metadata": {
        "id": "abZS8dPk9ze1",
        "trusted": false,
        "_uuid": "54f440d5e3da322372601d59e6224a8fcd89c5f8"
      },
      "source": [
        "X=[]\n",
        "Z=[]\n",
        "IMG_SIZE=150\n",
        "FLOWER_DAISY_DIR='flowers/daisy'\n",
        "FLOWER_SUNFLOWER_DIR='flowers/sunflower'\n",
        "FLOWER_TULIP_DIR='flowers/tulip'\n",
        "FLOWER_DANDI_DIR='flowers/dandelion'\n",
        "FLOWER_ROSE_DIR='flowers/rose'"
      ],
      "execution_count": null,
      "outputs": []
    },
    {
      "cell_type": "code",
      "metadata": {
        "id": "2qPgwo1d9ze4",
        "trusted": false,
        "_uuid": "73a92819956d2358999ca2233854712849a746d0"
      },
      "source": [
        "def assign_label(img,flower_type):\n",
        "    return flower_type\n",
        "    "
      ],
      "execution_count": null,
      "outputs": []
    },
    {
      "cell_type": "code",
      "metadata": {
        "id": "vlY8PywM9ze7",
        "trusted": false,
        "_uuid": "6392aebe4fd42ff52460f249ca442626c0af69b7"
      },
      "source": [
        "def make_train_data(flower_type,DIR):\n",
        "    for img in tqdm(os.listdir(DIR)):\n",
        "        label=assign_label(img,flower_type)\n",
        "        path = os.path.join(DIR,img)\n",
        "        img = cv2.imread(path,cv2.IMREAD_COLOR)\n",
        "        img = cv2.resize(img, (IMG_SIZE,IMG_SIZE))\n",
        "        \n",
        "        X.append(np.array(img))\n",
        "        Z.append(str(label))\n",
        "        \n",
        "        \n",
        "        "
      ],
      "execution_count": null,
      "outputs": []
    },
    {
      "cell_type": "code",
      "metadata": {
        "id": "9hn_RjL29ze_",
        "trusted": false,
        "_uuid": "46034734b447b127ce033705f44a01e7806a8990"
      },
      "source": [
        "make_train_data('Daisy',FLOWER_DAISY_DIR)\n",
        "print(len(X))"
      ],
      "execution_count": null,
      "outputs": []
    },
    {
      "cell_type": "code",
      "metadata": {
        "id": "KgYj8x-H9zfL",
        "trusted": false,
        "_uuid": "fef985e030d09df0762031cd2ec4b009a1f7711a"
      },
      "source": [
        "make_train_data('Dandelion',FLOWER_DANDI_DIR)\n",
        "print(len(X))"
      ],
      "execution_count": null,
      "outputs": []
    },
    {
      "cell_type": "code",
      "metadata": {
        "id": "GkL2oDDrWz_a"
      },
      "source": [
        "make_train_data('Sunflower',FLOWER_SUNFLOWER_DIR)\n",
        "print(len(X))"
      ],
      "execution_count": null,
      "outputs": []
    },
    {
      "cell_type": "code",
      "metadata": {
        "id": "z7oL75D4W0I5"
      },
      "source": [
        "make_train_data('Tulip',FLOWER_TULIP_DIR)\n",
        "print(len(X))"
      ],
      "execution_count": null,
      "outputs": []
    },
    {
      "cell_type": "code",
      "metadata": {
        "id": "fO0QLYDWW0V1"
      },
      "source": [
        "make_train_data('Rose',FLOWER_ROSE_DIR)\n",
        "print(len(X))"
      ],
      "execution_count": null,
      "outputs": []
    },
    {
      "cell_type": "code",
      "metadata": {
        "id": "Un1u5iX-i5s5"
      },
      "source": [
        "len(X)"
      ],
      "execution_count": null,
      "outputs": []
    },
    {
      "cell_type": "code",
      "metadata": {
        "id": "_CqArMk-lzkJ"
      },
      "source": [
        "len(y)"
      ],
      "execution_count": null,
      "outputs": []
    },
    {
      "cell_type": "code",
      "metadata": {
        "id": "TPoftHd6l8PD"
      },
      "source": [
        "X[110].shape"
      ],
      "execution_count": null,
      "outputs": []
    },
    {
      "cell_type": "code",
      "metadata": {
        "id": "VIkgkuPwjRfg"
      },
      "source": [
        "from keras.utils import to_categorical\n",
        "le=LabelEncoder()\n",
        "Y=le.fit_transform(Z)\n",
        "y  = to_categorical(Y, 5)"
      ],
      "execution_count": null,
      "outputs": []
    },
    {
      "cell_type": "code",
      "metadata": {
        "id": "YCo4v_6019tb"
      },
      "source": [
        "firstnn = Sequential()"
      ],
      "execution_count": null,
      "outputs": []
    },
    {
      "cell_type": "code",
      "metadata": {
        "id": "HuLGufTK2Bh-"
      },
      "source": [
        "from keras.layers import Dense\n",
        "#y' = np.dot(W, X)+b\n",
        "#relu(X) = max(0, X)\n",
        "model = Sequential()\n",
        "model.add(Flatten(input_shape=(150,150,3)))\n",
        "model.add(Dense(512, activation=\"relu\"))\n",
        "model.add(Dense(256, activation=\"relu\"))\n",
        "model.add(Dense(128, activation=\"relu\"))\n",
        "model.add(Dense(64, activation=\"relu\"))\n",
        "model.add(Dense(5, activation=\"softmax\"))\n",
        "\n",
        "#cat, dog, sheep - multiclass (categorical_cross)   ylogy' - (1-y)log(1-y')\n",
        "#cat, dog, sheep - multilabel, binary class (binary_cross)\n",
        "#regression - mean squared error (y-y')^2\n",
        "#classification-accuracy (blanced datasets), precision, recall, f1-score, f-score (imbalanced datasets)\n",
        "model.compile(loss='categorical_crossentropy', optimizer='sgd', metrics=['accuracy'])"
      ],
      "execution_count": null,
      "outputs": []
    },
    {
      "cell_type": "code",
      "metadata": {
        "id": "naWw-Qw98xeh"
      },
      "source": [
        "from keras.callbacks import ReduceLROnPlateau, EarlyStopping, ModelCheckpoint\n",
        "\n",
        "rd = ReduceLROnPlateau(monitor='val_loss', factor=0.1, patience=50, verbose=1, mode='auto', min_delta=0.0001, min_lr=0)\n",
        "es = EarlyStopping(monitor='val_loss', min_delta=0, patience=100, verbose=1, mode='auto')\n",
        "filepath='weights_{epoch:02d}_{val_loss:.2f}.h5'\n",
        "mc = ModelCheckpoint(filepath, monitor='val_loss', verbose=1, save_best_only=True, mode='auto')"
      ],
      "execution_count": null,
      "outputs": []
    },
    {
      "cell_type": "code",
      "metadata": {
        "id": "xfSAmuIBnbK8"
      },
      "source": [
        "X = np.array(X)\n",
        "x_train,x_test,y_train,y_test=train_test_split(X,y,test_size=0.2,random_state=27)\n"
      ],
      "execution_count": null,
      "outputs": []
    },
    {
      "cell_type": "code",
      "metadata": {
        "id": "xO6beyA8nppt"
      },
      "source": [
        "x_train.shape"
      ],
      "execution_count": null,
      "outputs": []
    },
    {
      "cell_type": "code",
      "metadata": {
        "id": "HKe1xprx6yiN"
      },
      "source": [
        "history = model.fit(x_train, y_train, epochs=1000, validation_split=0.2, callbacks=[rd, es, mc])"
      ],
      "execution_count": null,
      "outputs": []
    },
    {
      "cell_type": "code",
      "metadata": {
        "id": "qL_ig68J7yAH"
      },
      "source": [
        "import matplotlib.pyplot as plt\n",
        "plt.plot(history.history['accuracy'])\n",
        "plt.plot(history.history['val_accuracy'])\n",
        "plt.title('Model accuracy')\n",
        "plt.xlabel('Epochs')\n",
        "plt.ylabel('Accuracy')\n",
        "plt.legend(['Train','Validation'])\n",
        "plt.show()"
      ],
      "execution_count": null,
      "outputs": []
    },
    {
      "cell_type": "code",
      "metadata": {
        "id": "YqAOr_1o8dP3"
      },
      "source": [
        "import matplotlib.pyplot as plt\n",
        "plt.plot(history.history['loss'])\n",
        "plt.plot(history.history['val_loss'])\n",
        "plt.title('Model loss')\n",
        "plt.xlabel('Epochs')\n",
        "plt.ylabel('Loss')\n",
        "plt.legend(['Train','Validation'])\n",
        "plt.show()"
      ],
      "execution_count": null,
      "outputs": []
    }
  ]
}